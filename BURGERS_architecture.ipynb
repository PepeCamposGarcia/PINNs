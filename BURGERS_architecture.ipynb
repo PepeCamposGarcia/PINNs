{
  "nbformat": 4,
  "nbformat_minor": 0,
  "metadata": {
    "colab": {
      "provenance": []
    },
    "kernelspec": {
      "name": "python3",
      "display_name": "Python 3"
    },
    "language_info": {
      "name": "python"
    }
  },
  "cells": [
    {
      "cell_type": "markdown",
      "source": [
        "#Model definition"
      ],
      "metadata": {
        "id": "tAH46R68Xabv"
      }
    },
    {
      "cell_type": "code",
      "execution_count": null,
      "metadata": {
        "id": "ig5mrkoxf76G"
      },
      "outputs": [],
      "source": [
        "import numpy as np\n",
        "import torch\n",
        "import torch.nn as nn"
      ]
    },
    {
      "cell_type": "code",
      "source": [
        "!git clone https://github.com/PepeCamposGarcia/PINNs.git"
      ],
      "metadata": {
        "id": "ZgTTUT-LWz8b"
      },
      "execution_count": null,
      "outputs": []
    },
    {
      "cell_type": "markdown",
      "source": [
        "The problem we are aiming to solve is the Burgers equation with initial and boundary conditions:\n",
        "$$\n",
        "\\begin{cases}\n",
        "u_t + u  u_x - \\left(\\frac{0.01}{\\pi}\\right) u_{xx} = 0, & x \\in [-1,1], \\, t \\in [0,1], \\\\\n",
        "u(x, 0) = -\\sin(\\pi x),  \\\\\n",
        "u(-1, t) = u(1, t) = 0,\n",
        "\\end{cases}\n",
        "$$"
      ],
      "metadata": {
        "id": "eyx1xmEDXgEi"
      }
    },
    {
      "cell_type": "code",
      "source": [
        "class SinusoidalActivation(nn.Module):\n",
        "  def forward(self,x):\n",
        "    return torch.sin(2 * np.pi * x)"
      ],
      "metadata": {
        "id": "y2E3fC6PgENe"
      },
      "execution_count": null,
      "outputs": []
    },
    {
      "cell_type": "code",
      "source": [
        "class Burgers1D(nn.Module):\n",
        "\n",
        "############################### NET ARCHITECTURE ###############################\n",
        "\n",
        "  def __init__(self, num_neurons, num_layers, nu):\n",
        "    self.nu = nu\n",
        "\n",
        "    super(Burgers1D, self).__init__()\n",
        "    self.num_neurons = num_neurons\n",
        "    self.num_layers = num_layers\n",
        "\n",
        "### Imput layer, fully connected to the first hidden layer, sinusoidal activation\n",
        "### function for the dismiss of local minima\n",
        "\n",
        "    layer_list = [nn.Linear(2, self.num_neurons)]\n",
        "    layer_list.append(SinusoidalActivation())\n",
        "\n",
        "### Loop for the description of the hidden layers: fully connected layers,\n",
        "### hiperbolic tangent activation function\n",
        "\n",
        "    for _ in range (self.num_layers - 2):\n",
        "      layer_list.append(nn.Linear(self.num_neurons, self.num_neurons))\n",
        "      layer_list.append(nn.Tanh())\n",
        "\n",
        "### Output layer, 1 output u\n",
        "\n",
        "    layer_list.append(nn.Linear(self.num_neurons, 1))\n",
        "    self.layers = nn.ModuleList(layer_list)\n",
        "\n",
        "\n",
        "################## FEED-FORWARD PROPAGATION, OUTPUTS ###########################\n",
        "\n",
        "  def forward(self, x, t):\n",
        "     \"\"\"\n",
        "        Params:\n",
        "        x - array of shape (N, 1), input x coordinates\n",
        "        t - array of shape (N, 1), input time coordinate\n",
        "        Returns:\n",
        "        u - tensor of shape (N, 1), output x-velocity\n",
        "        f - x-momentum PDE evaluation of shape (N, 1)\n",
        "\n",
        "     \"\"\"\n",
        "     x = torch.tensor(x, dtype=torch.float32, requires_grad=True)\n",
        "     t = torch.tensor(t, dtype=torch.float32, requires_grad=True)\n",
        "\n",
        "     input_data = torch.hstack([x, t])\n",
        "\n",
        "     out = input_data\n",
        "\n",
        "     for layer in self.layers:\n",
        "      out = layer(out)\n",
        "\n",
        "     u = out[:] # (N, 1) each\n",
        "\n",
        "     u_t = torch.autograd.grad(u, t, grad_outputs=torch.ones_like(u), create_graph=True)[0]\n",
        "     u_x = torch.autograd.grad(u, x, grad_outputs=torch.ones_like(u), create_graph=True)[0]\n",
        "     u_xx = torch.autograd.grad(u_x, x, grad_outputs=torch.ones_like(u_x), create_graph=True)[0]\n",
        "\n",
        "        # Evaluate momentum PDE's\n",
        "\n",
        "     f = u_t + u * u_x - self.nu * u_xx # (N, 1)\n",
        "\n",
        "\n",
        "     return u, f"
      ],
      "metadata": {
        "id": "T1hP03H1gEmS"
      },
      "execution_count": null,
      "outputs": []
    },
    {
      "cell_type": "markdown",
      "source": [
        "#Loss function"
      ],
      "metadata": {
        "id": "jVkI5tuVXnzv"
      }
    },
    {
      "cell_type": "code",
      "source": [
        "##################### LOSS FUNCTION DESIGN #####################################\n",
        "\n",
        "class Burgers1DLoss(nn.Module):\n",
        "  def __init__(self):\n",
        "    super().__init__()\n",
        "    self.mse = nn.MSELoss()\n",
        "\n",
        "  def forward(self, u_init, u_net_init, u_net_BC, f):\n",
        "\n",
        "     L_init = self.mse(u_init, u_net_init)\n",
        "     L_boundary = self.mse(u_net_BC, torch.zeros_like(u_net_BC))\n",
        "     L_pde  = self.mse(f, torch.zeros_like(f))\n",
        "\n",
        "     return L_init + L_boundary + L_pde"
      ],
      "metadata": {
        "id": "Tkn3jDVSgE4K"
      },
      "execution_count": null,
      "outputs": []
    },
    {
      "cell_type": "markdown",
      "source": [
        "#Data loading"
      ],
      "metadata": {
        "id": "y8-MUth6XrJe"
      }
    },
    {
      "cell_type": "code",
      "source": [
        "import scipy"
      ],
      "metadata": {
        "id": "VT-2RgBlgFDU"
      },
      "execution_count": null,
      "outputs": []
    },
    {
      "cell_type": "code",
      "source": [
        "def boundary_indices(T, N):\n",
        "    \"\"\"\n",
        "    Returns a boolean mask marking the boundary spatial points for all timesteps\n",
        "    Params:\n",
        "    N - # of data samples (space locations) in problem\n",
        "    T - # of timesteps\n",
        "    Return:\n",
        "    nd-array of shape (N*T, )\n",
        "    \"\"\"\n",
        "    # Create grid for one timestep\n",
        "    # Data is a 100 x 256 matrix\n",
        "    # This function creates a boolean mask to identify every point with x=1 or x=-1\n",
        "\n",
        "\n",
        "    grid = np.zeros((100, 256))\n",
        "\n",
        "    # Set boundary to 1\n",
        "    grid[:, 0] = 1\n",
        "    grid[:, -1] = 1\n",
        "\n",
        "    grid_in = grid.flatten().reshape(-1,1)\n",
        "\n",
        "    # Flatten final grid into column vector to be used in training\n",
        "    boundary_positions = grid_in.astype(bool)\n",
        "\n",
        "    return boundary_positions\n"
      ],
      "metadata": {
        "id": "bTe_I9KkgNUC"
      },
      "execution_count": null,
      "outputs": []
    },
    {
      "cell_type": "code",
      "source": [
        "def init_indices(T, N):\n",
        "    \"\"\"\n",
        "    Returns a boolean mask marking the initial condition points\n",
        "    Params:\n",
        "    N - # of data samples (space locations) in problem\n",
        "    T - # of timesteps\n",
        "    Return:\n",
        "    nd-array of shape (N*T, )\n",
        "    \"\"\"\n",
        "    # Create grid for one timestep\n",
        "    # Data consists of a 100 x 256 matrix\n",
        "    # This function creates a boolean mask to identify every point with t=0\n",
        "\n",
        "\n",
        "    grid = np.zeros((100, 256))\n",
        "\n",
        "    # Set boundary to 1\n",
        "\n",
        "    grid[0, :] = 1\n",
        "\n",
        "    grid_init_in = grid.flatten().reshape(-1,1)\n",
        "\n",
        "    # Flatten final grid into column vector to be used in training\n",
        "    init_positions = grid_init_in.astype(bool)\n",
        "\n",
        "    return init_positions\n"
      ],
      "metadata": {
        "id": "Ytx1Neg8gNme"
      },
      "execution_count": null,
      "outputs": []
    },
    {
      "cell_type": "code",
      "source": [
        "import csv"
      ],
      "metadata": {
        "id": "yZzEPSPAgNz8"
      },
      "execution_count": null,
      "outputs": []
    },
    {
      "cell_type": "code",
      "source": [
        "def data_loading () :\n",
        "  x=torch.linspace(-1,1,256)\n",
        "  t=torch.linspace(0,1,100)\n",
        "  N, T = x.shape[0], t.shape[0]\n",
        "  XX,TT = torch.meshgrid(x,t)\n",
        "  XX = XX.transpose(1,0)\n",
        "  TT = TT.transpose(1,0)\n",
        "\n",
        "  x_in = XX.flatten().reshape(-1, 1)  # NT x 1\n",
        "  t_in = TT.flatten().reshape(-1, 1)  # NT x 1\n",
        "\n",
        "  return x, t, XX, TT, x_in, t_in, (T, N)"
      ],
      "metadata": {
        "id": "O8rDfCcEgUWl"
      },
      "execution_count": null,
      "outputs": []
    },
    {
      "cell_type": "markdown",
      "source": [
        "#Training set"
      ],
      "metadata": {
        "id": "qIi0jAOY6qY6"
      }
    },
    {
      "cell_type": "code",
      "source": [
        "x, t, XX, TT, x_in, t_in, (T, N) = data_loading () # (NT, 1)\n",
        "# For boundary an initial points, it is in the variables idx_b_train and\n",
        "# idx_i_train where we choose how many of them will be used in training,\n",
        "# in this case 50 of each are selected\n",
        "\n",
        "# Boundary training points\n",
        "idx_b = boundary_indices(T, N)\n",
        "x_boundary = x_in[idx_b, :]\n",
        "t_boundary = t_in[idx_b, :]\n",
        "idx_b_train = np.random.choice(x_boundary.shape[0], 50, replace=False)\n",
        "x_b_train = x_boundary[idx_b_train].reshape(-1,1)\n",
        "t_b_train = t_boundary[idx_b_train].reshape(-1,1)\n",
        "\n",
        "\n",
        "# Initial training points\n",
        "idx_i = init_indices(T ,N)\n",
        "x_init = x_in[idx_i, :]\n",
        "idx_i_train = np.random.choice(x_init.shape[0], 50, replace=False)\n",
        "x_i_train = x_init[idx_i_train].reshape(-1,1)\n",
        "t_i_train = torch.zeros_like(x_i_train).reshape(-1,1)\n",
        "\n",
        "u_init = -torch.sin(torch.pi*x_i_train)\n",
        "u_init = torch.tensor(u_init, dtype = torch.float32)\n",
        "u_init = u_init.reshape(-1,1)\n",
        "\n",
        "\n",
        "# Collocation points\n",
        "\n",
        "# Choose fraction of the total points to be used in training set as collocation points.\n",
        "# In this case a 45% of the total 26500 are used\n",
        "samples = int(round(N * T * 0.45))\n",
        "\n",
        "idx = np.random.choice(x_in.shape[0], samples, replace=False)\n",
        "x_train = x_in[idx, :]\n",
        "t_train = t_in[idx, :]"
      ],
      "metadata": {
        "id": "8yCMKgg3gUiO"
      },
      "execution_count": null,
      "outputs": []
    },
    {
      "cell_type": "markdown",
      "source": [
        "#Training algorithm"
      ],
      "metadata": {
        "id": "l57ed3s8appA"
      }
    },
    {
      "cell_type": "code",
      "source": [
        "from tqdm import tqdm"
      ],
      "metadata": {
        "id": "zd07mTz4hPRO"
      },
      "execution_count": null,
      "outputs": []
    },
    {
      "cell_type": "code",
      "source": [
        "def main(num_neurons, num_layers, epochs):\n",
        "    \"\"\"\n",
        "    Params:\n",
        "    num_neurons - int, # of hidden units for each neural network layer\n",
        "    num_layers - int, # of neural network layers\n",
        "    epochs - int, # of training epochs\n",
        "    train_selection - float (0,1), fraction of all data (N*T) to select for training OR\n",
        "                      'BC', select the boundary conditions for training (all timesteps)\n",
        "    \"\"\"\n",
        "    nu = 0.01/torch.pi\n",
        "\n",
        "\n",
        "    PINN_model = Burgers1D(num_neurons=num_neurons, num_layers=num_layers, nu=nu)\n",
        "    criterion = Burgers1DLoss()\n",
        "\n",
        "    optimizer = torch.optim.LBFGS(PINN_model.parameters(), line_search_fn='strong_wolfe')\n",
        "\n",
        "    def closure():\n",
        "        \"\"\"Define closure function to use with LBFGS optimizer\"\"\"\n",
        "        optimizer.zero_grad()   # Clear gradients from previous iteration\n",
        "\n",
        "        u_net, f = PINN_model(x_train, t_train)\n",
        "        u_net_BC, g = PINN_model(x_b_train, t_b_train)\n",
        "        u_net_init, h = PINN_model(x_i_train, t_i_train)\n",
        "\n",
        "        loss = criterion(u_init, u_net_init, u_net_BC, f)\n",
        "\n",
        "        loss.backward() # Backprogation\n",
        "        return loss\n",
        "\n",
        "    def training_loop(epochs):\n",
        "        \"\"\"Run training loop\"\"\"\n",
        "\n",
        "\n",
        "        for i in tqdm(range(epochs), desc='Training epochs: '):\n",
        "\n",
        "\n",
        "          optimizer.step(closure)\n",
        "          loss = closure().item()\n",
        "\n",
        "    training_loop(epochs=epochs)\n",
        "    torch.save(PINN_model.state_dict(), 'model_name.pth')\n",
        "    return\n",
        "    print(x_train.shape)\n",
        "\n"
      ],
      "metadata": {
        "id": "kI31iGIChSZu"
      },
      "execution_count": null,
      "outputs": []
    },
    {
      "cell_type": "markdown",
      "source": [
        "Running the following cell will start the network training, and generate a .pth file named 'model_name.pth', with the width and depth specified in 'num_neurons' and 'num_layers', and trained over 'epochs' iterations. The training set used was constructed in the previous section."
      ],
      "metadata": {
        "id": "l9JlFsIzmXVs"
      }
    },
    {
      "cell_type": "code",
      "source": [
        "if __name__ == '__main__':\n",
        "    main(num_neurons=num_neurons, num_layers=num_layers, epochs=epochs)"
      ],
      "metadata": {
        "id": "H2RONDYkeNnr"
      },
      "execution_count": null,
      "outputs": []
    },
    {
      "cell_type": "code",
      "source": [
        "import matplotlib.pyplot as plt\n",
        "import matplotlib.animation as animation\n",
        "import pandas as pd"
      ],
      "metadata": {
        "id": "07vcZJ_95P7Z"
      },
      "execution_count": null,
      "outputs": []
    },
    {
      "cell_type": "markdown",
      "source": [
        "#Different architecture models. Model loading\n",
        "In the next section, different architecture networks are trained on the same number of iterations to analyse how  width and depth of the model impact the accuracy of the predicted solution compared to the exact one."
      ],
      "metadata": {
        "id": "VtGo237P2JPZ"
      }
    },
    {
      "cell_type": "markdown",
      "source": [
        "10 NEURONS"
      ],
      "metadata": {
        "id": "Cjx2wHnPfNc3"
      }
    },
    {
      "cell_type": "code",
      "source": [
        "def load_saved_model_10_3(num_layers, num_neurons):\n",
        "\n",
        "    nu = 0.01\n",
        "\n",
        "    # load saved state_dict\n",
        "    PINN_model = Burgers1D(num_neurons=num_neurons, num_layers=num_layers, nu=nu)\n",
        "    PINN_model.load_state_dict(torch.load('/content/PINNs/Models_Data_Figures/BURGERS/Burgers_Architecture/Models/10_3.pth'))\n",
        "    PINN_model.eval() # Set model to evaluation mode\n",
        "    return PINN_model"
      ],
      "metadata": {
        "id": "qxuONea20rcN"
      },
      "execution_count": null,
      "outputs": []
    },
    {
      "cell_type": "code",
      "source": [
        "def load_saved_model_10_5(num_layers, num_neurons):\n",
        "\n",
        "    nu = 0.01\n",
        "\n",
        "    # load saved state_dict\n",
        "    PINN_model = Burgers1D(num_neurons=num_neurons, num_layers=num_layers, nu=nu)\n",
        "    PINN_model.load_state_dict(torch.load('/content/PINNs/Models_Data_Figures/BURGERS/Burgers_Architecture/Models/10_5.pth'))\n",
        "    PINN_model.eval() # Set model to evaluation mode\n",
        "    return PINN_model"
      ],
      "metadata": {
        "id": "g9YoSfiI2MCb"
      },
      "execution_count": null,
      "outputs": []
    },
    {
      "cell_type": "code",
      "source": [
        "def load_saved_model_10_7(num_layers, num_neurons):\n",
        "\n",
        "    nu = 0.01\n",
        "\n",
        "    # load saved state_dict\n",
        "    PINN_model = Burgers1D(num_neurons=num_neurons, num_layers=num_layers, nu=nu)\n",
        "    PINN_model.load_state_dict(torch.load('/content/PINNs/Models_Data_Figures/BURGERS/Burgers_Architecture/Models/10_7.pth'))\n",
        "    PINN_model.eval() # Set model to evaluation mode\n",
        "    return PINN_model"
      ],
      "metadata": {
        "id": "kC58yET72MQH"
      },
      "execution_count": null,
      "outputs": []
    },
    {
      "cell_type": "code",
      "source": [
        "def load_saved_model_10_9(num_layers, num_neurons):\n",
        "\n",
        "    nu = 0.01\n",
        "\n",
        "    # load saved state_dict\n",
        "    PINN_model = Burgers1D(num_neurons=num_neurons, num_layers=num_layers, nu=nu)\n",
        "    PINN_model.load_state_dict(torch.load('/content/PINNs/Models_Data_Figures/BURGERS/Burgers_Architecture/Models/10_9.pth'))\n",
        "    PINN_model.eval() # Set model to evaluation mode\n",
        "    return PINN_model"
      ],
      "metadata": {
        "id": "i6SE2kAg2MZY"
      },
      "execution_count": null,
      "outputs": []
    },
    {
      "cell_type": "markdown",
      "source": [
        "20 NEURONS"
      ],
      "metadata": {
        "id": "JW89W4TB2Y6u"
      }
    },
    {
      "cell_type": "code",
      "source": [
        "def load_saved_model_20_3(num_layers, num_neurons):\n",
        "\n",
        "    nu = 0.01\n",
        "\n",
        "    # load saved state_dict\n",
        "    PINN_model = Burgers1D(num_neurons=num_neurons, num_layers=num_layers, nu=nu)\n",
        "    PINN_model.load_state_dict(torch.load('/content/PINNs/Models_Data_Figures/BURGERS/Burgers_Architecture/Models/20_3.pth'))\n",
        "    PINN_model.eval() # Set model to evaluation mode\n",
        "    return PINN_model"
      ],
      "metadata": {
        "id": "lYx66O1w2bgQ"
      },
      "execution_count": null,
      "outputs": []
    },
    {
      "cell_type": "code",
      "source": [
        "def load_saved_model_20_5(num_layers, num_neurons):\n",
        "\n",
        "    nu = 0.01\n",
        "\n",
        "    # load saved state_dict\n",
        "    PINN_model = Burgers1D(num_neurons=num_neurons, num_layers=num_layers, nu=nu)\n",
        "    PINN_model.load_state_dict(torch.load('/content/PINNs/Models_Data_Figures/BURGERS/Burgers_Architecture/Models/20_5.pth'))\n",
        "    PINN_model.eval() # Set model to evaluation mode\n",
        "    return PINN_model"
      ],
      "metadata": {
        "id": "I68iwIaW2dm1"
      },
      "execution_count": null,
      "outputs": []
    },
    {
      "cell_type": "code",
      "source": [
        "def load_saved_model_20_7(num_layers, num_neurons):\n",
        "\n",
        "    nu = 0.01\n",
        "\n",
        "    # load saved state_dict\n",
        "    PINN_model = Burgers1D(num_neurons=num_neurons, num_layers=num_layers, nu=nu)\n",
        "    PINN_model.load_state_dict(torch.load('/content/PINNs/Models_Data_Figures/BURGERS/Burgers_Architecture/Models/20_7.pth'))\n",
        "    PINN_model.eval() # Set model to evaluation mode\n",
        "    return PINN_model"
      ],
      "metadata": {
        "id": "dBdUugfw2dvw"
      },
      "execution_count": null,
      "outputs": []
    },
    {
      "cell_type": "code",
      "source": [
        "def load_saved_model_20_9(num_layers, num_neurons):\n",
        "\n",
        "    nu = 0.01\n",
        "\n",
        "    # load saved state_dict\n",
        "    PINN_model = Burgers1D(num_neurons=num_neurons, num_layers=num_layers, nu=nu)\n",
        "    PINN_model.load_state_dict(torch.load('/content/PINNs/Models_Data_Figures/BURGERS/Burgers_Architecture/Models/20_9.pth'))\n",
        "    PINN_model.eval() # Set model to evaluation mode\n",
        "    return PINN_model"
      ],
      "metadata": {
        "id": "ceCLp5v12d4B"
      },
      "execution_count": null,
      "outputs": []
    },
    {
      "cell_type": "markdown",
      "source": [
        "40 NEURONS"
      ],
      "metadata": {
        "id": "sxDEyUU02tV7"
      }
    },
    {
      "cell_type": "code",
      "source": [
        "def load_saved_model_40_3(num_layers, num_neurons):\n",
        "\n",
        "    nu = 0.01\n",
        "\n",
        "    # load saved state_dict\n",
        "    PINN_model = Burgers1D(num_neurons=num_neurons, num_layers=num_layers, nu=nu)\n",
        "    PINN_model.load_state_dict(torch.load('/content/PINNs/Models_Data_Figures/BURGERS/Burgers_Architecture/Models/40_3.pth'))\n",
        "    PINN_model.eval() # Set model to evaluation mode\n",
        "    return PINN_model"
      ],
      "metadata": {
        "id": "F7NDW2wY2vKY"
      },
      "execution_count": null,
      "outputs": []
    },
    {
      "cell_type": "code",
      "source": [
        "def load_saved_model_40_5(num_layers, num_neurons):\n",
        "\n",
        "    nu = 0.01\n",
        "\n",
        "    # load saved state_dict\n",
        "    PINN_model = Burgers1D(num_neurons=num_neurons, num_layers=num_layers, nu=nu)\n",
        "    PINN_model.load_state_dict(torch.load('/content/PINNs/Models_Data_Figures/BURGERS/Burgers_Architecture/Models/40_5.pth'))\n",
        "    PINN_model.eval() # Set model to evaluation mode\n",
        "    return PINN_model"
      ],
      "metadata": {
        "id": "AM9TXzVb2vh_"
      },
      "execution_count": null,
      "outputs": []
    },
    {
      "cell_type": "code",
      "source": [
        "def load_saved_model_40_7(num_layers, num_neurons):\n",
        "\n",
        "    nu = 0.01\n",
        "\n",
        "    # load saved state_dict\n",
        "    PINN_model = Burgers1D(num_neurons=num_neurons, num_layers=num_layers, nu=nu)\n",
        "    PINN_model.load_state_dict(torch.load('/content/PINNs/Models_Data_Figures/BURGERS/Burgers_Architecture/Models/40_7.pth'))\n",
        "    PINN_model.eval() # Set model to evaluation mode\n",
        "    return PINN_model"
      ],
      "metadata": {
        "id": "-Bx50EQJ2vpq"
      },
      "execution_count": null,
      "outputs": []
    },
    {
      "cell_type": "code",
      "source": [
        "def load_saved_model_40_9(num_layers, num_neurons):\n",
        "\n",
        "    nu = 0.01\n",
        "\n",
        "    # load saved state_dict\n",
        "    PINN_model = Burgers1D(num_neurons=num_neurons, num_layers=num_layers, nu=nu)\n",
        "    PINN_model.load_state_dict(torch.load('/content/PINNs/Models_Data_Figures/BURGERS/Burgers_Architecture/Models/40_9.pth'))\n",
        "    PINN_model.eval() # Set model to evaluation mode\n",
        "    return PINN_model"
      ],
      "metadata": {
        "id": "vQUZFtJw2vxU"
      },
      "execution_count": null,
      "outputs": []
    },
    {
      "cell_type": "markdown",
      "source": [
        "MODELS"
      ],
      "metadata": {
        "id": "vLFnUmVJ29jf"
      }
    },
    {
      "cell_type": "code",
      "source": [
        "model_10_3 = load_saved_model_10_3(num_layers = 3, num_neurons = 10)\n",
        "model_10_5 = load_saved_model_10_5(num_layers = 5, num_neurons = 10)\n",
        "model_10_7 = load_saved_model_10_7(num_layers = 7, num_neurons = 10)\n",
        "model_10_9 = load_saved_model_10_9(num_layers = 9, num_neurons = 10)"
      ],
      "metadata": {
        "id": "baejbBvV2-tN"
      },
      "execution_count": null,
      "outputs": []
    },
    {
      "cell_type": "code",
      "source": [
        "model_20_3 = load_saved_model_20_3(num_layers = 3, num_neurons = 20)\n",
        "model_20_5 = load_saved_model_20_5(num_layers = 5, num_neurons = 20)\n",
        "model_20_7 = load_saved_model_20_7(num_layers = 7, num_neurons = 20)\n",
        "model_20_9 = load_saved_model_20_9(num_layers = 9, num_neurons = 20)"
      ],
      "metadata": {
        "id": "HZZmPRXP2-0W"
      },
      "execution_count": null,
      "outputs": []
    },
    {
      "cell_type": "code",
      "source": [
        "model_40_3 = load_saved_model_40_3(num_layers = 3, num_neurons = 40)\n",
        "model_40_5 = load_saved_model_40_5(num_layers = 5, num_neurons = 40)\n",
        "model_40_7 = load_saved_model_40_7(num_layers = 7, num_neurons = 40)\n",
        "model_40_9 = load_saved_model_40_9(num_layers = 9, num_neurons = 40)"
      ],
      "metadata": {
        "id": "nFerJK3A2-7t"
      },
      "execution_count": null,
      "outputs": []
    },
    {
      "cell_type": "markdown",
      "source": [
        "#Model evaluation"
      ],
      "metadata": {
        "id": "ELDy0ZH_ftAa"
      }
    },
    {
      "cell_type": "code",
      "source": [
        "#MODEL EVALUATION\n",
        "\n",
        "#u_n1_n2 is a tensor containing the predicted solution across the spatio-temporal domain\n",
        "#f_n1_n2 is a tensor containing the evaluation of the Burgers equation\n",
        "#UU_n1_n2 is a reshape of the solution for its representation\n",
        "#n1 refers to the number of neurons per layer of the model\n",
        "#n2 refers to the number of layers of the model\n",
        "\n",
        "# 10 neurons\n",
        "u_10_3, f_10_3 = model_10_3(x_in, t_in)\n",
        "UU_10_3 = u_10_3.reshape(T, N).detach().transpose(1,0)\n",
        "\n",
        "u_10_5, f_10_5 = model_10_5(x_in, t_in)\n",
        "UU_10_5 = u_10_5.reshape(T, N).detach().transpose(1,0)\n",
        "\n",
        "u_10_7, f_10_7 = model_10_7(x_in, t_in)\n",
        "UU_10_7 = u_10_7.reshape(T, N).detach().transpose(1,0)\n",
        "\n",
        "u_10_9, f_10_9 = model_10_9(x_in, t_in)\n",
        "UU_10_9 = u_10_9.reshape(T, N).detach().transpose(1,0)\n",
        "\n",
        "#20 neurons\n",
        "u_20_3, f_20_3 = model_20_3(x_in, t_in)\n",
        "UU_20_3 = u_20_3.reshape(T, N).detach().transpose(1,0)\n",
        "\n",
        "u_20_5, f_20_5 = model_20_5(x_in, t_in)\n",
        "UU_20_5 = u_20_5.reshape(T, N).detach().transpose(1,0)\n",
        "\n",
        "u_20_7, f_20_7 = model_20_7(x_in, t_in)\n",
        "UU_20_7 = u_20_7.reshape(T, N).detach().transpose(1,0)\n",
        "\n",
        "u_20_9, f_20_9 = model_20_9(x_in, t_in)\n",
        "UU_20_9 = u_20_9.reshape(T, N).detach().transpose(1,0)\n",
        "\n",
        "#40 neurons\n",
        "u_40_3, f_40_3 = model_40_3(x_in, t_in)\n",
        "UU_40_3 = u_40_3.reshape(T, N).detach().transpose(1,0)\n",
        "\n",
        "u_40_5, f_40_5 = model_40_5(x_in, t_in)\n",
        "UU_40_5 = u_40_5.reshape(T, N).detach().transpose(1,0)\n",
        "\n",
        "u_40_7, f_40_7 = model_40_7(x_in, t_in)\n",
        "UU_40_7 = u_40_7.reshape(T, N).detach().transpose(1,0)\n",
        "\n",
        "u_40_9, f_40_9 = model_40_9(x_in, t_in)\n",
        "UU_40_9 = u_40_9.reshape(T, N).detach().transpose(1,0)\n"
      ],
      "metadata": {
        "id": "kXg5DyB-2_DA"
      },
      "execution_count": null,
      "outputs": []
    },
    {
      "cell_type": "code",
      "source": [
        "XX_p=XX.detach().transpose(1,0)\n",
        "TT_p=TT.detach().transpose(1,0)"
      ],
      "metadata": {
        "id": "HpyrKxbN48uO"
      },
      "execution_count": null,
      "outputs": []
    },
    {
      "cell_type": "markdown",
      "source": [
        "#Exact solution"
      ],
      "metadata": {
        "id": "3ka5tNLRgBEu"
      }
    },
    {
      "cell_type": "code",
      "source": [
        "def data_loading_2 ():\n",
        "\n",
        "  data = scipy.io.loadmat('/content/PINNs/Models_Data_Figures/Data/burgers_equation.mat')\n",
        "  UU_star = torch.tensor(data['usol']) #        256 x 100\n",
        "  X_star = data['x']                   #        256 x 1\n",
        "  t_star = data['t']                   #        100  x 1\n",
        "\n",
        "  N, T= X_star.shape[0], t_star.shape[0]\n",
        "\n",
        "  # Column vector transformation  25600 x 1\n",
        "  u_star_in = UU_star.flatten().reshape(-1, 1)\n",
        "\n",
        "  return UU_star, u_star_in"
      ],
      "metadata": {
        "id": "DmMufRFt5iQz"
      },
      "execution_count": null,
      "outputs": []
    },
    {
      "cell_type": "code",
      "source": [
        "UU_star, u_star_in = data_loading_2 ()"
      ],
      "metadata": {
        "id": "OVCfsvgU5r0x"
      },
      "execution_count": null,
      "outputs": []
    },
    {
      "cell_type": "markdown",
      "source": [
        "#Root mean squared error"
      ],
      "metadata": {
        "id": "qma4G6uXgTW0"
      }
    },
    {
      "cell_type": "code",
      "source": [
        "def rMSE(UU):\n",
        "\n",
        "    # Initialize array to hold sum of square errors (sse)\n",
        "    N = UU.shape[0]\n",
        "    T = UU.shape[1]\n",
        "\n",
        "    sse = np.zeros(T)\n",
        "\n",
        "    for i in range(T):\n",
        "        # Prediction for time i\n",
        "        sse[i] = ((UU[:,i]-UU_star[:,i])**2).sum()\n",
        "\n",
        "    # Sum sse over timesteps\n",
        "    sse = sse.sum()\n",
        "\n",
        "    # Average sse over all samples and all timesteps to get mean squared error (mse)\n",
        "    mse = sse / (N * T)\n",
        "\n",
        "    #R^2 coefficient calculation\n",
        "    # Find total sum of squares (SSTO)\n",
        "    ssto = ((u_star_in - u_star_in.mean()) ** 2).sum()\n",
        "    ssto = ssto.detach()\n",
        "    R2 = (1 - (sse / ssto))\n",
        "\n",
        "    return mse, R2.detach()"
      ],
      "metadata": {
        "id": "fSiYFowl57VE"
      },
      "execution_count": null,
      "outputs": []
    },
    {
      "cell_type": "code",
      "source": [
        "# Calculate rmse\n",
        "Layer_list_10 = [3, 5, 7, 9]\n",
        "U_list_10 = [UU_10_3, UU_10_5, UU_10_7, UU_10_9]\n",
        "\n",
        "rmse_list_10, r2_list_10 = [], []\n",
        "for i, layer in enumerate(Layer_list_10):\n",
        "    rmse_i, r2_i = rMSE(U_list_10[i]) #each of shape (1, )\n",
        "    rmse_list_10.append(rmse_i)\n",
        "    r2_list_10.append(r2_i)\n",
        "\n",
        "rmse_10, r2_10 = np.vstack(rmse_list_10), np.vstack(r2_list_10) # # epochs tested, u\n",
        "rmse_df_10, r2_df_10 = pd.DataFrame(rmse_10, columns=['10 neurons per layer'], index=Layer_list_10), pd.DataFrame(r2_10, columns=['10 neurons per layer'], index=Layer_list_10)"
      ],
      "metadata": {
        "id": "8Iv5ehjK6Bav"
      },
      "execution_count": null,
      "outputs": []
    },
    {
      "cell_type": "code",
      "source": [
        "# Calculate rmse\n",
        "Layer_list_20 = [3, 5, 7, 9]\n",
        "U_list_20 = [UU_20_3, UU_20_5, UU_20_7, UU_20_9]\n",
        "\n",
        "rmse_list_20, r2_list_20 = [], []\n",
        "for i, epoch in enumerate(Layer_list_20):\n",
        "    rmse_i, r2_i = rMSE(U_list_20[i]) #each of shape (1, )\n",
        "    rmse_list_20.append(rmse_i)\n",
        "    r2_list_20.append(r2_i)\n",
        "\n",
        "rmse_20, r2_20 = np.vstack(rmse_list_20), np.vstack(r2_list_20) # # epochs tested, u\n",
        "rmse_df_20, r2_df_20 = pd.DataFrame(rmse_20, columns=['20 neurons per layer'], index=Layer_list_20), pd.DataFrame(r2_20, columns=['20 neurons per layer'], index=Layer_list_20)"
      ],
      "metadata": {
        "id": "E099vg9a8X7N"
      },
      "execution_count": null,
      "outputs": []
    },
    {
      "cell_type": "code",
      "source": [
        "# Calculate rmse\n",
        "Layer_list_40 = [3, 5, 7, 9]\n",
        "U_list_40 = [UU_40_3, UU_40_5, UU_40_7, UU_40_9]\n",
        "\n",
        "rmse_list_40, r2_list_40 = [], []\n",
        "for i, epoch in enumerate(Layer_list_40):\n",
        "    rmse_i, r2_i = rMSE(U_list_40[i]) #each of shape (1, )\n",
        "    rmse_list_40.append(rmse_i)\n",
        "    r2_list_40.append(r2_i)\n",
        "\n",
        "rmse_40, r2_40 = np.vstack(rmse_list_40), np.vstack(r2_list_40) # # epochs tested, u\n",
        "rmse_df_40, r2_df_40 = pd.DataFrame(rmse_40, columns=['40 neurons per layer'], index=Layer_list_40), pd.DataFrame(r2_40, columns=['40 neurons per layer'], index=Layer_list_40)"
      ],
      "metadata": {
        "id": "yhEDBAvH9HR5"
      },
      "execution_count": null,
      "outputs": []
    },
    {
      "cell_type": "markdown",
      "source": [
        "#Results table\n",
        "\n",
        "The following table summarizes the results obtained during this section, reflecting the predictions' root mean squared error with respect to the exact solution across all the domain. A more complex architecture leads to more accurate results."
      ],
      "metadata": {
        "id": "8n0tKklIhmUU"
      }
    },
    {
      "cell_type": "code",
      "source": [
        "df_rmse = pd.concat([rmse_df_10, rmse_df_20, rmse_df_40], axis=1)\n",
        "df_rmse"
      ],
      "metadata": {
        "colab": {
          "base_uri": "https://localhost:8080/",
          "height": 175
        },
        "id": "RZr49GWRCNKW",
        "outputId": "05d2ba62-e337-49ac-c4e4-36b07d208042"
      },
      "execution_count": null,
      "outputs": [
        {
          "output_type": "execute_result",
          "data": {
            "text/plain": [
              "   10 neurons per layer  20 neurons per layer  40 neurons per layer\n",
              "3              0.078619              0.036911              0.015361\n",
              "5              0.015296              0.000475              0.000039\n",
              "7              0.003723              0.000646              0.000027\n",
              "9              0.000231              0.000157              0.000024"
            ],
            "text/html": [
              "\n",
              "  <div id=\"df-d37fc56e-5ebe-4cf6-a3c1-55e13bddc2ce\" class=\"colab-df-container\">\n",
              "    <div>\n",
              "<style scoped>\n",
              "    .dataframe tbody tr th:only-of-type {\n",
              "        vertical-align: middle;\n",
              "    }\n",
              "\n",
              "    .dataframe tbody tr th {\n",
              "        vertical-align: top;\n",
              "    }\n",
              "\n",
              "    .dataframe thead th {\n",
              "        text-align: right;\n",
              "    }\n",
              "</style>\n",
              "<table border=\"1\" class=\"dataframe\">\n",
              "  <thead>\n",
              "    <tr style=\"text-align: right;\">\n",
              "      <th></th>\n",
              "      <th>10 neurons per layer</th>\n",
              "      <th>20 neurons per layer</th>\n",
              "      <th>40 neurons per layer</th>\n",
              "    </tr>\n",
              "  </thead>\n",
              "  <tbody>\n",
              "    <tr>\n",
              "      <th>3</th>\n",
              "      <td>0.078619</td>\n",
              "      <td>0.036911</td>\n",
              "      <td>0.015361</td>\n",
              "    </tr>\n",
              "    <tr>\n",
              "      <th>5</th>\n",
              "      <td>0.015296</td>\n",
              "      <td>0.000475</td>\n",
              "      <td>0.000039</td>\n",
              "    </tr>\n",
              "    <tr>\n",
              "      <th>7</th>\n",
              "      <td>0.003723</td>\n",
              "      <td>0.000646</td>\n",
              "      <td>0.000027</td>\n",
              "    </tr>\n",
              "    <tr>\n",
              "      <th>9</th>\n",
              "      <td>0.000231</td>\n",
              "      <td>0.000157</td>\n",
              "      <td>0.000024</td>\n",
              "    </tr>\n",
              "  </tbody>\n",
              "</table>\n",
              "</div>\n",
              "    <div class=\"colab-df-buttons\">\n",
              "\n",
              "  <div class=\"colab-df-container\">\n",
              "    <button class=\"colab-df-convert\" onclick=\"convertToInteractive('df-d37fc56e-5ebe-4cf6-a3c1-55e13bddc2ce')\"\n",
              "            title=\"Convert this dataframe to an interactive table.\"\n",
              "            style=\"display:none;\">\n",
              "\n",
              "  <svg xmlns=\"http://www.w3.org/2000/svg\" height=\"24px\" viewBox=\"0 -960 960 960\">\n",
              "    <path d=\"M120-120v-720h720v720H120Zm60-500h600v-160H180v160Zm220 220h160v-160H400v160Zm0 220h160v-160H400v160ZM180-400h160v-160H180v160Zm440 0h160v-160H620v160ZM180-180h160v-160H180v160Zm440 0h160v-160H620v160Z\"/>\n",
              "  </svg>\n",
              "    </button>\n",
              "\n",
              "  <style>\n",
              "    .colab-df-container {\n",
              "      display:flex;\n",
              "      gap: 12px;\n",
              "    }\n",
              "\n",
              "    .colab-df-convert {\n",
              "      background-color: #E8F0FE;\n",
              "      border: none;\n",
              "      border-radius: 50%;\n",
              "      cursor: pointer;\n",
              "      display: none;\n",
              "      fill: #1967D2;\n",
              "      height: 32px;\n",
              "      padding: 0 0 0 0;\n",
              "      width: 32px;\n",
              "    }\n",
              "\n",
              "    .colab-df-convert:hover {\n",
              "      background-color: #E2EBFA;\n",
              "      box-shadow: 0px 1px 2px rgba(60, 64, 67, 0.3), 0px 1px 3px 1px rgba(60, 64, 67, 0.15);\n",
              "      fill: #174EA6;\n",
              "    }\n",
              "\n",
              "    .colab-df-buttons div {\n",
              "      margin-bottom: 4px;\n",
              "    }\n",
              "\n",
              "    [theme=dark] .colab-df-convert {\n",
              "      background-color: #3B4455;\n",
              "      fill: #D2E3FC;\n",
              "    }\n",
              "\n",
              "    [theme=dark] .colab-df-convert:hover {\n",
              "      background-color: #434B5C;\n",
              "      box-shadow: 0px 1px 3px 1px rgba(0, 0, 0, 0.15);\n",
              "      filter: drop-shadow(0px 1px 2px rgba(0, 0, 0, 0.3));\n",
              "      fill: #FFFFFF;\n",
              "    }\n",
              "  </style>\n",
              "\n",
              "    <script>\n",
              "      const buttonEl =\n",
              "        document.querySelector('#df-d37fc56e-5ebe-4cf6-a3c1-55e13bddc2ce button.colab-df-convert');\n",
              "      buttonEl.style.display =\n",
              "        google.colab.kernel.accessAllowed ? 'block' : 'none';\n",
              "\n",
              "      async function convertToInteractive(key) {\n",
              "        const element = document.querySelector('#df-d37fc56e-5ebe-4cf6-a3c1-55e13bddc2ce');\n",
              "        const dataTable =\n",
              "          await google.colab.kernel.invokeFunction('convertToInteractive',\n",
              "                                                    [key], {});\n",
              "        if (!dataTable) return;\n",
              "\n",
              "        const docLinkHtml = 'Like what you see? Visit the ' +\n",
              "          '<a target=\"_blank\" href=https://colab.research.google.com/notebooks/data_table.ipynb>data table notebook</a>'\n",
              "          + ' to learn more about interactive tables.';\n",
              "        element.innerHTML = '';\n",
              "        dataTable['output_type'] = 'display_data';\n",
              "        await google.colab.output.renderOutput(dataTable, element);\n",
              "        const docLink = document.createElement('div');\n",
              "        docLink.innerHTML = docLinkHtml;\n",
              "        element.appendChild(docLink);\n",
              "      }\n",
              "    </script>\n",
              "  </div>\n",
              "\n",
              "\n",
              "<div id=\"df-5409751c-24e6-445e-8ba0-4355739b5c92\">\n",
              "  <button class=\"colab-df-quickchart\" onclick=\"quickchart('df-5409751c-24e6-445e-8ba0-4355739b5c92')\"\n",
              "            title=\"Suggest charts\"\n",
              "            style=\"display:none;\">\n",
              "\n",
              "<svg xmlns=\"http://www.w3.org/2000/svg\" height=\"24px\"viewBox=\"0 0 24 24\"\n",
              "     width=\"24px\">\n",
              "    <g>\n",
              "        <path d=\"M19 3H5c-1.1 0-2 .9-2 2v14c0 1.1.9 2 2 2h14c1.1 0 2-.9 2-2V5c0-1.1-.9-2-2-2zM9 17H7v-7h2v7zm4 0h-2V7h2v10zm4 0h-2v-4h2v4z\"/>\n",
              "    </g>\n",
              "</svg>\n",
              "  </button>\n",
              "\n",
              "<style>\n",
              "  .colab-df-quickchart {\n",
              "      --bg-color: #E8F0FE;\n",
              "      --fill-color: #1967D2;\n",
              "      --hover-bg-color: #E2EBFA;\n",
              "      --hover-fill-color: #174EA6;\n",
              "      --disabled-fill-color: #AAA;\n",
              "      --disabled-bg-color: #DDD;\n",
              "  }\n",
              "\n",
              "  [theme=dark] .colab-df-quickchart {\n",
              "      --bg-color: #3B4455;\n",
              "      --fill-color: #D2E3FC;\n",
              "      --hover-bg-color: #434B5C;\n",
              "      --hover-fill-color: #FFFFFF;\n",
              "      --disabled-bg-color: #3B4455;\n",
              "      --disabled-fill-color: #666;\n",
              "  }\n",
              "\n",
              "  .colab-df-quickchart {\n",
              "    background-color: var(--bg-color);\n",
              "    border: none;\n",
              "    border-radius: 50%;\n",
              "    cursor: pointer;\n",
              "    display: none;\n",
              "    fill: var(--fill-color);\n",
              "    height: 32px;\n",
              "    padding: 0;\n",
              "    width: 32px;\n",
              "  }\n",
              "\n",
              "  .colab-df-quickchart:hover {\n",
              "    background-color: var(--hover-bg-color);\n",
              "    box-shadow: 0 1px 2px rgba(60, 64, 67, 0.3), 0 1px 3px 1px rgba(60, 64, 67, 0.15);\n",
              "    fill: var(--button-hover-fill-color);\n",
              "  }\n",
              "\n",
              "  .colab-df-quickchart-complete:disabled,\n",
              "  .colab-df-quickchart-complete:disabled:hover {\n",
              "    background-color: var(--disabled-bg-color);\n",
              "    fill: var(--disabled-fill-color);\n",
              "    box-shadow: none;\n",
              "  }\n",
              "\n",
              "  .colab-df-spinner {\n",
              "    border: 2px solid var(--fill-color);\n",
              "    border-color: transparent;\n",
              "    border-bottom-color: var(--fill-color);\n",
              "    animation:\n",
              "      spin 1s steps(1) infinite;\n",
              "  }\n",
              "\n",
              "  @keyframes spin {\n",
              "    0% {\n",
              "      border-color: transparent;\n",
              "      border-bottom-color: var(--fill-color);\n",
              "      border-left-color: var(--fill-color);\n",
              "    }\n",
              "    20% {\n",
              "      border-color: transparent;\n",
              "      border-left-color: var(--fill-color);\n",
              "      border-top-color: var(--fill-color);\n",
              "    }\n",
              "    30% {\n",
              "      border-color: transparent;\n",
              "      border-left-color: var(--fill-color);\n",
              "      border-top-color: var(--fill-color);\n",
              "      border-right-color: var(--fill-color);\n",
              "    }\n",
              "    40% {\n",
              "      border-color: transparent;\n",
              "      border-right-color: var(--fill-color);\n",
              "      border-top-color: var(--fill-color);\n",
              "    }\n",
              "    60% {\n",
              "      border-color: transparent;\n",
              "      border-right-color: var(--fill-color);\n",
              "    }\n",
              "    80% {\n",
              "      border-color: transparent;\n",
              "      border-right-color: var(--fill-color);\n",
              "      border-bottom-color: var(--fill-color);\n",
              "    }\n",
              "    90% {\n",
              "      border-color: transparent;\n",
              "      border-bottom-color: var(--fill-color);\n",
              "    }\n",
              "  }\n",
              "</style>\n",
              "\n",
              "  <script>\n",
              "    async function quickchart(key) {\n",
              "      const quickchartButtonEl =\n",
              "        document.querySelector('#' + key + ' button');\n",
              "      quickchartButtonEl.disabled = true;  // To prevent multiple clicks.\n",
              "      quickchartButtonEl.classList.add('colab-df-spinner');\n",
              "      try {\n",
              "        const charts = await google.colab.kernel.invokeFunction(\n",
              "            'suggestCharts', [key], {});\n",
              "      } catch (error) {\n",
              "        console.error('Error during call to suggestCharts:', error);\n",
              "      }\n",
              "      quickchartButtonEl.classList.remove('colab-df-spinner');\n",
              "      quickchartButtonEl.classList.add('colab-df-quickchart-complete');\n",
              "    }\n",
              "    (() => {\n",
              "      let quickchartButtonEl =\n",
              "        document.querySelector('#df-5409751c-24e6-445e-8ba0-4355739b5c92 button');\n",
              "      quickchartButtonEl.style.display =\n",
              "        google.colab.kernel.accessAllowed ? 'block' : 'none';\n",
              "    })();\n",
              "  </script>\n",
              "</div>\n",
              "\n",
              "  <div id=\"id_ac30d010-d732-4653-9614-e49922d1e668\">\n",
              "    <style>\n",
              "      .colab-df-generate {\n",
              "        background-color: #E8F0FE;\n",
              "        border: none;\n",
              "        border-radius: 50%;\n",
              "        cursor: pointer;\n",
              "        display: none;\n",
              "        fill: #1967D2;\n",
              "        height: 32px;\n",
              "        padding: 0 0 0 0;\n",
              "        width: 32px;\n",
              "      }\n",
              "\n",
              "      .colab-df-generate:hover {\n",
              "        background-color: #E2EBFA;\n",
              "        box-shadow: 0px 1px 2px rgba(60, 64, 67, 0.3), 0px 1px 3px 1px rgba(60, 64, 67, 0.15);\n",
              "        fill: #174EA6;\n",
              "      }\n",
              "\n",
              "      [theme=dark] .colab-df-generate {\n",
              "        background-color: #3B4455;\n",
              "        fill: #D2E3FC;\n",
              "      }\n",
              "\n",
              "      [theme=dark] .colab-df-generate:hover {\n",
              "        background-color: #434B5C;\n",
              "        box-shadow: 0px 1px 3px 1px rgba(0, 0, 0, 0.15);\n",
              "        filter: drop-shadow(0px 1px 2px rgba(0, 0, 0, 0.3));\n",
              "        fill: #FFFFFF;\n",
              "      }\n",
              "    </style>\n",
              "    <button class=\"colab-df-generate\" onclick=\"generateWithVariable('df_rmse')\"\n",
              "            title=\"Generate code using this dataframe.\"\n",
              "            style=\"display:none;\">\n",
              "\n",
              "  <svg xmlns=\"http://www.w3.org/2000/svg\" height=\"24px\"viewBox=\"0 0 24 24\"\n",
              "       width=\"24px\">\n",
              "    <path d=\"M7,19H8.4L18.45,9,17,7.55,7,17.6ZM5,21V16.75L18.45,3.32a2,2,0,0,1,2.83,0l1.4,1.43a1.91,1.91,0,0,1,.58,1.4,1.91,1.91,0,0,1-.58,1.4L9.25,21ZM18.45,9,17,7.55Zm-12,3A5.31,5.31,0,0,0,4.9,8.1,5.31,5.31,0,0,0,1,6.5,5.31,5.31,0,0,0,4.9,4.9,5.31,5.31,0,0,0,6.5,1,5.31,5.31,0,0,0,8.1,4.9,5.31,5.31,0,0,0,12,6.5,5.46,5.46,0,0,0,6.5,12Z\"/>\n",
              "  </svg>\n",
              "    </button>\n",
              "    <script>\n",
              "      (() => {\n",
              "      const buttonEl =\n",
              "        document.querySelector('#id_ac30d010-d732-4653-9614-e49922d1e668 button.colab-df-generate');\n",
              "      buttonEl.style.display =\n",
              "        google.colab.kernel.accessAllowed ? 'block' : 'none';\n",
              "\n",
              "      buttonEl.onclick = () => {\n",
              "        google.colab.notebook.generateWithVariable('df_rmse');\n",
              "      }\n",
              "      })();\n",
              "    </script>\n",
              "  </div>\n",
              "\n",
              "    </div>\n",
              "  </div>\n"
            ],
            "application/vnd.google.colaboratory.intrinsic+json": {
              "type": "dataframe",
              "variable_name": "df_rmse",
              "summary": "{\n  \"name\": \"df_rmse\",\n  \"rows\": 4,\n  \"fields\": [\n    {\n      \"column\": \"10 neurons per layer\",\n      \"properties\": {\n        \"dtype\": \"number\",\n        \"std\": 0.03667090957367468,\n        \"min\": 0.00023083276529196211,\n        \"max\": 0.07861912173793466,\n        \"num_unique_values\": 4,\n        \"samples\": [\n          0.015296423211417484,\n          0.00023083276529196211,\n          0.07861912173793466\n        ],\n        \"semantic_type\": \"\",\n        \"description\": \"\"\n      }\n    },\n    {\n      \"column\": \"20 neurons per layer\",\n      \"properties\": {\n        \"dtype\": \"number\",\n        \"std\": 0.018243384197067558,\n        \"min\": 0.00015670308360184293,\n        \"max\": 0.036910592157274644,\n        \"num_unique_values\": 4,\n        \"samples\": [\n          0.00047546980059709254,\n          0.00015670308360184293,\n          0.036910592157274644\n        ],\n        \"semantic_type\": \"\",\n        \"description\": \"\"\n      }\n    },\n    {\n      \"column\": \"40 neurons per layer\",\n      \"properties\": {\n        \"dtype\": \"number\",\n        \"std\": 0.007665611941332641,\n        \"min\": 2.4079444007784645e-05,\n        \"max\": 0.015361080124766628,\n        \"num_unique_values\": 4,\n        \"samples\": [\n          3.87917125482968e-05,\n          2.4079444007784645e-05,\n          0.015361080124766628\n        ],\n        \"semantic_type\": \"\",\n        \"description\": \"\"\n      }\n    }\n  ]\n}"
            }
          },
          "metadata": {},
          "execution_count": 51
        }
      ]
    },
    {
      "cell_type": "code",
      "source": [
        "import pandas as pd\n",
        "from google.colab import files"
      ],
      "metadata": {
        "id": "YRntThtDDQTe"
      },
      "execution_count": null,
      "outputs": []
    },
    {
      "cell_type": "code",
      "source": [
        "df_rmse.to_csv('estudioarquitecturadef.csv', index=True)\n",
        "files.download('estudioarquitecturadef.csv')"
      ],
      "metadata": {
        "colab": {
          "base_uri": "https://localhost:8080/",
          "height": 17
        },
        "id": "kDnA1SM7DBh7",
        "outputId": "181711a8-2400-4cf3-84f6-c3e3aebc94cb"
      },
      "execution_count": null,
      "outputs": [
        {
          "output_type": "display_data",
          "data": {
            "text/plain": [
              "<IPython.core.display.Javascript object>"
            ],
            "application/javascript": [
              "\n",
              "    async function download(id, filename, size) {\n",
              "      if (!google.colab.kernel.accessAllowed) {\n",
              "        return;\n",
              "      }\n",
              "      const div = document.createElement('div');\n",
              "      const label = document.createElement('label');\n",
              "      label.textContent = `Downloading \"${filename}\": `;\n",
              "      div.appendChild(label);\n",
              "      const progress = document.createElement('progress');\n",
              "      progress.max = size;\n",
              "      div.appendChild(progress);\n",
              "      document.body.appendChild(div);\n",
              "\n",
              "      const buffers = [];\n",
              "      let downloaded = 0;\n",
              "\n",
              "      const channel = await google.colab.kernel.comms.open(id);\n",
              "      // Send a message to notify the kernel that we're ready.\n",
              "      channel.send({})\n",
              "\n",
              "      for await (const message of channel.messages) {\n",
              "        // Send a message to notify the kernel that we're ready.\n",
              "        channel.send({})\n",
              "        if (message.buffers) {\n",
              "          for (const buffer of message.buffers) {\n",
              "            buffers.push(buffer);\n",
              "            downloaded += buffer.byteLength;\n",
              "            progress.value = downloaded;\n",
              "          }\n",
              "        }\n",
              "      }\n",
              "      const blob = new Blob(buffers, {type: 'application/binary'});\n",
              "      const a = document.createElement('a');\n",
              "      a.href = window.URL.createObjectURL(blob);\n",
              "      a.download = filename;\n",
              "      div.appendChild(a);\n",
              "      a.click();\n",
              "      div.remove();\n",
              "    }\n",
              "  "
            ]
          },
          "metadata": {}
        },
        {
          "output_type": "display_data",
          "data": {
            "text/plain": [
              "<IPython.core.display.Javascript object>"
            ],
            "application/javascript": [
              "download(\"download_926ab62c-437c-4c8a-9e2e-db9913c3af46\", \"estudioarquitecturadef.csv\", 334)"
            ]
          },
          "metadata": {}
        }
      ]
    }
  ]
}